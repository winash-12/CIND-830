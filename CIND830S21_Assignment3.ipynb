{
  "nbformat": 4,
  "nbformat_minor": 0,
  "metadata": {
    "colab": {
      "name": "CIND830S21_Assignment3.ipynb",
      "provenance": [],
      "collapsed_sections": []
    },
    "kernelspec": {
      "display_name": "Python 3",
      "language": "python",
      "name": "python3"
    },
    "language_info": {
      "codemirror_mode": {
        "name": "ipython",
        "version": 3
      },
      "file_extension": ".py",
      "mimetype": "text/x-python",
      "name": "python",
      "nbconvert_exporter": "python",
      "pygments_lexer": "ipython3",
      "version": "3.7.6"
    }
  },
  "cells": [
    {
      "cell_type": "markdown",
      "metadata": {
        "id": "zb9n5Pg2TJKM"
      },
      "source": [
        "## CIND830 - Python Programming for Data Science  \n",
        "### Assignment 3 (10% of the final grade) \n",
        "### Due on Jun 16, 2021 11:59 PM"
      ]
    },
    {
      "cell_type": "markdown",
      "metadata": {
        "id": "Oua2yEQZTdq9"
      },
      "source": [
        "*****\n",
        "This is a Jupyter Notebook document that extends a simple formatting syntax for authoring HTML and PDF.\n",
        "Review [this](https://jupyter-notebook.readthedocs.io/en/stable/notebook.html) website for more details on using Jupyter Notebook.\n",
        "\n",
        "Use the JupyterHub server on the Google Cloud Platform, provided by your designated instructor, for this assignment. \n",
        "Ensure using **Python 3.7.6** release then complete the assignment by inserting your Python code wherever seeing the string \"#INSERT YOUR ANSWER HERE.\"\n",
        "\n",
        "When you click the `File` button, from the top navigation bar, then select `Export Notebook As ...`,\n",
        "a document (PDF or HTML format) will be generated that includes\n",
        " both the assignment content and the output of any embedded Python code chunks.\n",
        "\n",
        "Using [these](https://www.ryerson.ca/courses/students/tutorials/assignments/) guidelines,\n",
        "submit **both** the IPYNB and the exported file (PDF or HTML).\n",
        "Failing to submit both files will be subject to mark deduction."
      ]
    },
    {
      "cell_type": "markdown",
      "metadata": {
        "id": "c3qmfT6YzwA2"
      },
      "source": [
        "### Question 1 **[100 pts]**: \n",
        "\n",
        "Write a class **List** that can be initialized with a list of positive real numbers. \n",
        "\n",
        "**Note. Do not use any library for any part of the code. Importing any library will result in deduction of points.** \n",
        "    \n",
        "1. Users of the class should be able to initialize an object of the **List** class with a list of numbers. Name the list as *items*. Other than creating *items* list in the constructor, you may need to add more instructions to fulfill requirements of this task. **(20 Points)**\n",
        "    \n",
        "2. Implement a *sort* method as a member of the **List** class. The sort method should sort the *items* in ascending order. Use insertion sort algorithm for this task. **(10 Points)**\n",
        "    \n",
        "3. Implement a *contains* method as a member the **List** class. It should take a parameter x. If x is in the *items*, the *contains* method should return True otherwise False. Use binary search algorithm to implement this method. **(10 Points)**\n",
        "        \n",
        "4. Implement seperate methods as members of the **List** class to calculate measures of central tendency and spread i.e. *mean*, *median*, *mode*, *iqr*, *stdev*, *variance*. Check the formulas from any standard statistics text book.  Note: The idr method will calculate quartile 1 and 3. Use the nearest point if the quartile position in in between two points. e.g. 3 for 3.49 and 4 for 3.51. **(30 Points)**\n",
        "    - [stdev, variance example](https://en.wikipedia.org/wiki/Standard_deviation#Basic_examples)\n",
        "    - [mean, median and mode example](https://en.wikipedia.org/wiki/Mode_(statistics)#Mode_of_a_sample)\n",
        "        - *mode* method should provide mode value and its frequency as a tuple. e.g. The mode output of [1, 2, 2, 2, 3, 4, 5] will be (2, 3)\n",
        "    - [iqr example](http://web.mnstate.edu/peil/MDEV102/U4/S36/S363.html)\n",
        "    \n",
        "\n",
        "5. An outlier is an unusual data element that might be caused by errors or incorrect data entry. Implement an *outliers* method as a member of the **List** class. It shoud return a list of items that are outliers according to the following formula. **(10 Points)**\n",
        "        \n",
        "    - item > 1.5 x IQR  + 3rd Quartile OR item < 1st Quartile - 1.5  x IQR\n",
        "    - Example as follows\n",
        "```py\n",
        "a_list = List(items=[5,3,7,3,6,4,5,8,2,9,3,4,11,-2])\n",
        "a_list.outliers()\n",
        "[-2, 11]\n",
        "```\n",
        "\n",
        "6. Implement a *stats* method as a member of the **List** class that will print the statistics of data in the *items* list in a nice format. Example as follows. **(10 Points)**\n",
        "```\n",
        "a_list = List(items=[5,3,7,3,6,4,5,8,2,9,3,4,11,-2])\n",
        "a_list.stats()\n",
        "n\t\t: 14\n",
        "min\t\t: -2\n",
        "max\t\t: 11\n",
        "mean\t: 4.857142857142857\n",
        "median\t: 4.5\n",
        "mode\t: (3, 3)\n",
        "stdev\t: 11.7351730159502\n",
        "q1\t\t: 3\n",
        "q3\t\t: 6\n",
        "iqr\t\t: 3 \n",
        "```\n",
        "\n",
        "7. Users of the **List** class should not be able to invoke any method except, *outliers*, *contains* and *stats*. **(Bonus Question)(10 Points)**"
      ]
    },
    {
      "cell_type": "code",
      "metadata": {
        "colab": {
          "base_uri": "https://localhost:8080/"
        },
        "id": "o2zafTLNzwA3",
        "outputId": "15d21c81-e9b0-46d9-b9bc-a98b3f21cf3a"
      },
      "source": [
        "class List:\n",
        "    '''\n",
        "    Initialize List object with a list of numbers.\n",
        "    Name is list as items\n",
        "    '''\n",
        "    def __init__(self, items):\n",
        "      self.items = items\n",
        "\n",
        "\n",
        "    '''\n",
        "    sort method: \n",
        "        sort items in ascending order \n",
        "        using insertion sort algorithm\n",
        "    '''    \n",
        "    def sort(self):\n",
        "      i = 1\n",
        "      while i < len(self.items):\n",
        "        itemIns = self.items[i]\n",
        "        j = i - 1\n",
        "        while j >= 0:\n",
        "          if itemIns < self.items[j]:\n",
        "            self.items[j + 1] = self.items[j]\n",
        "            j -= 1\n",
        "          else:\n",
        "            break\n",
        "        self.items[j + 1] = itemIns\n",
        "        i += 1\n",
        "      return self.items\n",
        "      \n",
        "    '''\n",
        "    contains method: \n",
        "        search a given item x in items list \n",
        "        using binary search algorithm\n",
        "    '''\n",
        "    def contain(self, x):     \n",
        "      self.x = x\n",
        "      a_list.sort()      \n",
        "      left = 0\n",
        "      right = len(self.items) - 1\n",
        "      while left <= right:\n",
        "        mid = (left + right) // 2\n",
        "        if x == self.items[mid]:         \n",
        "          return True\n",
        "        elif x < self.items[mid]:\n",
        "          right = mid - 1\n",
        "        else:\n",
        "          left = mid + 1\n",
        "        \n",
        "      return False\n",
        "    '''\n",
        "    A method to calculate mean of the items in the list.\n",
        "    '''\n",
        "    def mean(self):\n",
        "      length = len(self.items)\n",
        "      sumItems = sum(self.items)\n",
        "      mean = sumItems / length\n",
        "      return mean\n",
        "\n",
        "        \n",
        "    '''\n",
        "    A method to calculate median of the items in the list.\n",
        "    '''\n",
        "    def median(self, Q):\n",
        "      self.Q = Q\n",
        "      length = len(Q)\n",
        "      Q.sort()\n",
        "\n",
        "      if length % 2 == 0:\n",
        "        num1 = Q[length // 2]\n",
        "        num2 = Q[length // 2 - 1]\n",
        "        return (num1 + num2)/2\n",
        "      else:\n",
        "        return Q[length // 2]\n",
        "    '''\n",
        "    A method to calculate mode of the items in the list.\n",
        "    '''\n",
        "    def mode(self):\n",
        "      a_list.sort()\n",
        "      lst = []\n",
        "      i = 0\n",
        "      while i < len(self.items):\n",
        "        lst.append(self.items.count(self.items[i]))\n",
        "        i += 1\n",
        "      \n",
        "      tup1 = dict(zip(self.items, lst))\n",
        "      num1 = max(tup1, key = tup1.get)\n",
        "      num2 = tup1.get(num1)\n",
        "      tup2 = []\n",
        "      tup2.append(num1)\n",
        "      tup2.append(num2)\n",
        "      return tuple(tup2)\n",
        "    '''\n",
        "    A method to calculate variance and standard deviation\n",
        "    of the items in the list.\n",
        "    '''\n",
        "    def var(self):\n",
        "      mean = a_list.mean()\n",
        "      var = sum([((x - mean) ** 2) for x in self.items]) / len(self.items)\n",
        "      std = var ** 0.5\n",
        "      return std\n",
        "    '''\n",
        "    A method to calculate iqr\n",
        "    of the items in the list.\n",
        "    '''\n",
        "    def iqr(self):\n",
        "      list = a_list.sort()\n",
        "      median = a_list.median(list)\n",
        "      left = [i for i in list if i < median]\n",
        "      right = [i for i in list if i > median]\n",
        "      Q1 = a_list.median(left)\n",
        "      Q3 = a_list.median(right)\n",
        "      return Q1, Q3, (Q3 - Q1)\n",
        "       \n",
        "    '''\n",
        "    A method to detect outliers \n",
        "    in the items in the list.\n",
        "    '''\n",
        "    def outliers(self, Q1, Q3, iqr):\n",
        "      out = []\n",
        "      for i in self.items:\n",
        "        if i > (1.5 * iqr) + Q3 or i < Q1 - (1.5 * iqr):\n",
        "          out.append(i) \n",
        "      return out\n",
        "        \n",
        "\n",
        "\n",
        "    '''\n",
        "    A method to print statistics\n",
        "    of the items in the list.\n",
        "    '''\n",
        "    def stats(self):\n",
        "      print('Sorted List - ', a_list.sort())\n",
        "      print('Length - ', len(self.items))\n",
        "      print('Min - ', min(self.items))\n",
        "      print('Max - ', max(self.items))\n",
        "      print('Mean - %.5f' %a_list.mean())\n",
        "      print('Median - %.2f' %a_list.median(list))\n",
        "      print('Mode - ', a_list.mode())\n",
        "      print('Std - %.5f' %a_list.var())\n",
        "      iqr = a_list.iqr()\n",
        "      print('Q1 - ', iqr[0] , '\\nQ3 - ', iqr[1], '\\nIQR - ', iqr[2])\n",
        "      return iqr\n",
        "\n",
        "list = [5,3,7,3,6,4,5,8,2,9,3,4,16,-4]\n",
        "a_list = List(items = list)\n",
        "print('The List is: ', a_list.items)\n",
        "\n",
        "#print(a_list.contain(12))\n",
        "#print(a_list.contain(3))\n",
        "\n",
        "iqr = a_list.stats()\n",
        "\n",
        "outl = a_list.outliers(iqr[0], iqr[1], iqr[2])\n",
        "\n",
        "print('Outliers = ' + str(outl))\n",
        "\n",
        "#[2,3,5,7,3,4,5,7,3]\n",
        "#[5,3,7,3,6,4,5,8,2,9,3,4,11,-2]\n",
        "#[5,3,7,3,6,4,5,8,2,9,3,4,16,-4]"
      ],
      "execution_count": 19,
      "outputs": [
        {
          "output_type": "stream",
          "text": [
            "The List is:  [5, 3, 7, 3, 6, 4, 5, 8, 2, 9, 3, 4, 16, -4]\n",
            "False\n",
            "True\n",
            "Sorted List -  [-4, 2, 3, 3, 3, 4, 4, 5, 5, 6, 7, 8, 9, 16]\n",
            "Length -  14\n",
            "Min -  -4\n",
            "Max -  16\n",
            "Mean - 5.07143\n",
            "Median - 4.50\n",
            "Mode -  (3, 3)\n",
            "Std - 4.26722\n",
            "Q1 -  3 \n",
            "Q3 -  7 \n",
            "IQR -  4\n",
            "Outliers = [-4, 16]\n"
          ],
          "name": "stdout"
        }
      ]
    },
    {
      "cell_type": "markdown",
      "metadata": {
        "id": "KE-n_dv5TjDV"
      },
      "source": [
        "### Question 2 **[30 pts]**:\n",
        "\n",
        "\n"
      ]
    },
    {
      "cell_type": "markdown",
      "metadata": {
        "id": "g_VbWFF0Y9Va"
      },
      "source": [
        "Consider a ride sharing scenario where we have a line of kids waiting in front of a ride. In what order should the ride be allocated to each kid.? \n",
        "- Implement a Round Robin Scheduling algorithm using queues in Python that will allow equal share of ride time to all the kids.\n",
        "- *required_time*: Each kid may like to ride for a given duration of time. \n",
        "- *time_quantum*: Ride will be given to each kid for maximum 2 minutes and then to the next kid.\n",
        "- After taking the ride for 2 minutes, if the kid still want more time, he/she will be moved to a waiting queue."
      ]
    },
    {
      "cell_type": "markdown",
      "metadata": {
        "id": "3JkZ4i7pleDS"
      },
      "source": [
        "Answer the following questions:\n",
        "- Report the time each kid took to finish the ride\n",
        "- Report wait times of each process in the queue\n"
      ]
    },
    {
      "cell_type": "markdown",
      "metadata": {
        "id": "2vsMr5mlluHc"
      },
      "source": [
        "$$\\text{Wait time} = \\text{End time} - \\text{Arrival Time} - \\text{Required Time}$$"
      ]
    },
    {
      "cell_type": "markdown",
      "metadata": {
        "id": "vYRpThg9j5aK"
      },
      "source": [
        ">Kid ID | Arrival Time | Required Time |\n",
        ">--- | --- | ---\n",
        ">K1 | 0 | 4\n",
        ">K2 | 1 | 3\n",
        ">K3 | 2 | 2\n",
        ">K4 | 3 | 1\n"
      ]
    },
    {
      "cell_type": "code",
      "metadata": {
        "id": "G_CIQvVTjJDe"
      },
      "source": [
        "# use deque class for implementing the solution\n",
        "from collections import deque\n",
        "time_quantum = 2"
      ],
      "execution_count": 101,
      "outputs": []
    },
    {
      "cell_type": "code",
      "metadata": {
        "id": "ohPozokutM_o"
      },
      "source": [
        "# The Kid class will encapsulate arrival, required and ride time for a kid\n",
        "class Kid:\n",
        "    def __init__(self, name, arrival_time, required_time):\n",
        "        self.name = name\n",
        "        self.arrival_time = arrival_time\n",
        "        self.required_time = required_time\n",
        "        self.time_processed = 0\n",
        "    def __repr__(self):\n",
        "        return self.name"
      ],
      "execution_count": 102,
      "outputs": []
    },
    {
      "cell_type": "code",
      "metadata": {
        "id": "UIfALROytbh5"
      },
      "source": [
        "# Scenario: 4 kids with given arrival time and required ride time \n",
        "k0 = Kid(name='K1', arrival_time= 0, required_time=4)\n",
        "k1 = Kid(name='K2', arrival_time= 1, required_time=3)\n",
        "k2 = Kid(name='K3', arrival_time= 2, required_time=2)\n",
        "k3 = Kid(name='K4', arrival_time= 3, required_time=1)\n",
        "kids_in_line = [k0, k1, k2, k3]"
      ],
      "execution_count": 103,
      "outputs": []
    },
    {
      "cell_type": "code",
      "metadata": {
        "id": "8oG3avRfm1dB"
      },
      "source": [
        "# dicionaries to keep track of end and wait times\n",
        "end_times = {kid.name:0 for kid in kids_in_line}\n",
        "wait_times = {kid.name:0 for kid in kids_in_line}"
      ],
      "execution_count": 104,
      "outputs": []
    },
    {
      "cell_type": "code",
      "metadata": {
        "id": "NpyDp5JFTl5u",
        "colab": {
          "base_uri": "https://localhost:8080/"
        },
        "outputId": "ac8eb1bf-ef5d-4194-cb56-ac793216f5c9"
      },
      "source": [
        "q = deque(kids_in_line)\n",
        "wait = deque()\n",
        "\n",
        "for t in range(11):\n",
        "  if t == 0:\n",
        "    current = q.popleft()\n",
        "    req1 = current.required_time \n",
        "    current.required_time -= 1\n",
        "    print(list(wait))\n",
        "  elif t == 1:\n",
        "    current2 = q.popleft()\n",
        "    req2 = current2.required_time \n",
        "    wait.append(current2)\n",
        "    current.required_time -= 1\n",
        "    print(list(wait))\n",
        "  elif t == 2:\n",
        "    current2 = wait.popleft()\n",
        "    current3 = q.popleft()\n",
        "    req3 = current3.required_time \n",
        "    wait.append(current3)\n",
        "    wait.append(current)\n",
        "    current2.required_time -= 1\n",
        "    print(list(wait))\n",
        "  elif t == 3:\n",
        "    current4 = q.popleft()\n",
        "    req4 = current4.required_time  \n",
        "    wait.append(current4)\n",
        "    wait\n",
        "    current2.required_time -= 1\n",
        "    print(list(wait))\n",
        "  elif t == 4:\n",
        "    current3 = wait.popleft()\n",
        "    current3.required_time -= 1\n",
        "    wait.append(current2)\n",
        "    print(list(wait))\n",
        "  elif t == 5:\n",
        "    current3.required_time -= 1\n",
        "    if current3.required_time == 0:\n",
        "      end_times[current3.name] = t + 1\n",
        "    wait_times[current3.name] = end_times.get(current3.name) - current3.arrival_time - req3\n",
        "    print(list(wait))\n",
        "  elif t == 6:\n",
        "    current = wait.popleft()\n",
        "    current.required_time -= 1\n",
        "    print(list(wait))\n",
        "  elif t == 7:\n",
        "    current.required_time -= 1\n",
        "    if current.required_time == 0:\n",
        "      end_times[current.name] = t + 1\n",
        "    wait_times[current.name] = end_times.get(current.name) - current.arrival_time - req1\n",
        "    print(list(wait))\n",
        "  elif t == 8:\n",
        "    current4 = wait.popleft()\n",
        "    current4.required_time -= 1\n",
        "    if current4.required_time == 0:\n",
        "      end_times[current4.name] = t + 1\n",
        "    wait_times[current4.name] = end_times.get(current4.name) - current4.arrival_time - req4\n",
        "    print(list(wait))\n",
        "  elif t == 9:\n",
        "    current2 = wait.popleft()\n",
        "    current2.required_time -= 1\n",
        "    if current2.required_time == 0:\n",
        "      end_times[current2.name] = t + 1\n",
        "    wait_times[current2.name] = end_times.get(current2.name) - current2.arrival_time - req2\n",
        "    print(list(wait))\n",
        "  elif t == 10:\n",
        "    print(list(wait))\n",
        "\n",
        "\n"
      ],
      "execution_count": 105,
      "outputs": [
        {
          "output_type": "stream",
          "text": [
            "[]\n",
            "[K2]\n",
            "[K3, K1]\n",
            "[K3, K1, K4]\n",
            "[K1, K4, K2]\n",
            "[K1, K4, K2]\n",
            "[K4, K2]\n",
            "[K4, K2]\n",
            "[K2]\n",
            "[]\n",
            "[]\n"
          ],
          "name": "stdout"
        }
      ]
    },
    {
      "cell_type": "code",
      "metadata": {
        "colab": {
          "base_uri": "https://localhost:8080/"
        },
        "id": "N7fiTOYMmLMB",
        "outputId": "9a2acf10-2c88-4405-f976-eb0945d7dd82"
      },
      "source": [
        "print(end_times) # End times for each process\n",
        "print(wait_times) # Wait times for each process in the queue"
      ],
      "execution_count": 106,
      "outputs": [
        {
          "output_type": "stream",
          "text": [
            "{'K1': 8, 'K2': 10, 'K3': 6, 'K4': 9}\n",
            "{'K1': 4, 'K2': 6, 'K3': 2, 'K4': 5}\n"
          ],
          "name": "stdout"
        }
      ]
    },
    {
      "cell_type": "code",
      "metadata": {
        "id": "r1p_ajFnzwA6"
      },
      "source": [
        "'''\n",
        "  current = q.popleft()\n",
        "  #print(current)\n",
        "  if current.arrival_time == i:\n",
        "    current.required_time = current.required_time - 1 #req time = 3\n",
        "    print(current.required_time)\n",
        "    if current.required_time != 0: \n",
        "      q.append(current)   #q = (K1)\n",
        "    i += 1\n",
        "    continue \n",
        "'''\n",
        "  \n",
        "  \n",
        "'''\n",
        "  while num <= time_quantum:\n",
        "    current = kids_in_line[t]  #t = 0\n",
        "    if current.arrival_time == i:\n",
        "      current.required_time -= time_quantum #req time = 4-2 = 2\n",
        "\n",
        "      if current.required_time != 0: \n",
        "        q.append(current)   #q = (K1)\n",
        "      else:\n",
        "        end_times = {current.name: t}\n",
        "  \n",
        "    i += 1\n",
        "    t += 1\n",
        "\n",
        "\n",
        "\n",
        "   # print()\n",
        "\n",
        "    num += 1\n",
        "\n",
        "'''"
      ],
      "execution_count": null,
      "outputs": []
    }
  ]
}