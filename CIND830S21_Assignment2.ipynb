{
  "nbformat": 4,
  "nbformat_minor": 0,
  "metadata": {
    "colab": {
      "name": "CIND830S21_Assignment2.ipynb",
      "provenance": [],
      "collapsed_sections": []
    },
    "kernelspec": {
      "display_name": "Python 3",
      "language": "python",
      "name": "python3"
    },
    "language_info": {
      "codemirror_mode": {
        "name": "ipython",
        "version": 3
      },
      "file_extension": ".py",
      "mimetype": "text/x-python",
      "name": "python",
      "nbconvert_exporter": "python",
      "pygments_lexer": "ipython3",
      "version": "3.7.6"
    },
    "nteract": {
      "version": "0.25.1"
    },
    "varInspector": {
      "cols": {
        "lenName": 16,
        "lenType": 16,
        "lenVar": 40
      },
      "kernels_config": {
        "python": {
          "delete_cmd_postfix": "",
          "delete_cmd_prefix": "del ",
          "library": "var_list.py",
          "varRefreshCmd": "print(var_dic_list())"
        },
        "r": {
          "delete_cmd_postfix": ") ",
          "delete_cmd_prefix": "rm(",
          "library": "var_list.r",
          "varRefreshCmd": "cat(var_dic_list()) "
        }
      },
      "types_to_exclude": [
        "module",
        "function",
        "builtin_function_or_method",
        "instance",
        "_Feature"
      ],
      "window_display": false
    }
  },
  "cells": [
    {
      "cell_type": "markdown",
      "metadata": {
        "id": "TX_-QfCapg5r"
      },
      "source": [
        "## CIND830 - Python Programming for Data Science  \n",
        "### Assignment 2 (10% of the final grade)\n",
        "### Due on May 31, 2021 11:59 PM"
      ]
    },
    {
      "cell_type": "markdown",
      "metadata": {
        "id": "U8IqCJzxpg5t"
      },
      "source": [
        "*****\n",
        "This is a Jupyter Notebook document that extends a simple formatting syntax for authoring HTML and PDF. Review [this](https://jupyter-notebook.readthedocs.io/en/stable/notebook.html) website for more details on using Jupyter Notebooks.\n",
        "\n",
        "Use the JupyterHub server on the Google Cloud Platform, provided by your designated instructor, for this assignment. Ensure using **Python 3.7.6** release then complete the assignment by inserting your Python code wherever seeing the string `#INSERT YOUR ANSWER HERE.`\n",
        "\n",
        "When you click the `File` button, from the top navigation bar, then select `Export Notebook to HTML`, an HTML document will be generated that includes both the assignment content and the output of any embedded Python code chunks.\n",
        "\n",
        "Use [these](https://www.ryerson.ca/courses/students/tutorials/assignments/) guidelines to submit **both** the IPYNB and the exported file (HTML). Failing to submit both files will be subject to mark deduction.\n",
        "\n",
        "Please be advised that you cannot get more than 100% in this assignment, and the **BONUS** question will only be graded if all other questions have been submitted."
      ]
    },
    {
      "cell_type": "markdown",
      "metadata": {
        "id": "_w2FpDl5pg5u"
      },
      "source": [
        "*****"
      ]
    },
    {
      "cell_type": "markdown",
      "metadata": {
        "id": "EgCYUXsUpg5w"
      },
      "source": [
        "### Question 1 **[50 pts]**:"
      ]
    },
    {
      "cell_type": "markdown",
      "metadata": {
        "id": "U8EiOXpFAvO0"
      },
      "source": [
        "**a)** **[10 pts]** Define a function called `is_even` that takes an integer as a parameter and returns `True` if the given integer is Even. An integer is said to be even if the modulo(%) of the integer equals `0`. For example, `4` is even `(4%2 = 0)`, but `5` is not `(5%2 = 1)`."
      ]
    },
    {
      "cell_type": "code",
      "metadata": {
        "id": "ggwn3zr4YgqL",
        "colab": {
          "base_uri": "https://localhost:8080/"
        },
        "outputId": "9adab7ef-2b37-412a-fc90-bd63dc9d6b76"
      },
      "source": [
        "def is_even(num):\n",
        "  if num % 2 == 0:\n",
        "    return True\n",
        "  else:\n",
        "    return False\n",
        "\n",
        "#call the function\n",
        "print(is_even(5))\n",
        "\n",
        "#ask user for number\n",
        "x = int(input(\"Please enter a number: \"))\n",
        "print(is_even(x))\n"
      ],
      "execution_count": null,
      "outputs": [
        {
          "output_type": "stream",
          "text": [
            "False\n",
            "Please enter a number: 4\n",
            "True\n"
          ],
          "name": "stdout"
        }
      ]
    },
    {
      "cell_type": "markdown",
      "metadata": {
        "id": "7P6eyfpepg58"
      },
      "source": [
        "**b)** **[10 pts]** Modify the `is_even` function you created in Q1.a to take a floating-point data as an input and return `True` if the ceiling of the input is Even. For example, `12.5` is not even, but `11.25` is even."
      ]
    },
    {
      "cell_type": "code",
      "metadata": {
        "id": "1_raetpPYg-Y",
        "colab": {
          "base_uri": "https://localhost:8080/"
        },
        "outputId": "b534a31a-eeae-43bd-84fa-120094fd8756"
      },
      "source": [
        "#INSERT YOUR ANSWER HERE.\n",
        "import math\n",
        "\n",
        "def is_even(num):\n",
        "  if math.ceil(num) % 2 == 0:\n",
        "    return True\n",
        "  else:\n",
        "    return False\n",
        "\n",
        "\n",
        "'''\n",
        "#call the function\n",
        "print(is_even(12.5))\n",
        "'''\n",
        "\n",
        "\n",
        "#ask user for number\n",
        "x = float(input(\"Please enter a number: \"))\n",
        "print(is_even(x))\n"
      ],
      "execution_count": null,
      "outputs": [
        {
          "output_type": "stream",
          "text": [
            "Please enter a number: 12.5\n",
            "False\n"
          ],
          "name": "stdout"
        }
      ]
    },
    {
      "cell_type": "markdown",
      "metadata": {
        "id": "xC08P3Mvpg6C"
      },
      "source": [
        "**c)** **[10 pts]** Define a function called `is_even_vec` that calls `isEven` function you updated in Q1.b to take a list of floating-point or integer numbers and return their results in a list.  For example, given `[1441.25, 231.5, 23]` the function returns `[True, True, False]`"
      ]
    },
    {
      "cell_type": "code",
      "metadata": {
        "id": "LHA4aK4QYhRu",
        "colab": {
          "base_uri": "https://localhost:8080/"
        },
        "outputId": "7aceb2a0-8df3-4115-fa07-ec447155acf7"
      },
      "source": [
        "#define function is-even_vec\n",
        "def is_even_vec():\n",
        "\n",
        "  #ask user for input\n",
        "  inp = input(\"Please enter the numbers with a comma seperating them: \")\n",
        "  x = inp.split(\",\")\n",
        "\n",
        "  lst_x = []\n",
        "  num_lst = []\n",
        "  for i in x:\n",
        "    lst_x.append(float(i))\n",
        "\n",
        "#call main function\n",
        "  for i in lst_x:\n",
        "    num_lst.append(is_even(i))        #call is_even function and print output\n",
        "\n",
        "  return num_lst, lst_x\n",
        "\n",
        "\n",
        "\n",
        "\n",
        "x = is_even_vec()\n",
        "print(x [0])\n",
        "  "
      ],
      "execution_count": null,
      "outputs": [
        {
          "output_type": "stream",
          "text": [
            "Please enter the numbers with a comma seperating them: 1441.25,231.5,23\n",
            "[True, True, False]\n"
          ],
          "name": "stdout"
        }
      ]
    },
    {
      "cell_type": "markdown",
      "metadata": {
        "id": "M4dHoJWYpg6G"
      },
      "source": [
        "**d)** **[10 pts]** Define a function called `is_even_dict` that calls `is_even_vec` and returns the results in a dictionary with their corresponding input elements. \\\n",
        "For example, given `[1441.25, 231.5, 23]` the function returns `{1441.25: True, 231.5: True, 23: False}`"
      ]
    },
    {
      "cell_type": "code",
      "metadata": {
        "id": "LBAG1WDiYhx1",
        "colab": {
          "base_uri": "https://localhost:8080/"
        },
        "outputId": "87a55caa-cc96-440e-c249-1ced21891dd9"
      },
      "source": [
        "#define function is_even_dict\n",
        "def is_even_dict():\n",
        " \n",
        "  x = is_even_vec()\n",
        "  num_dict = dict()\n",
        "  \n",
        "  length = len(x[0])\n",
        "  value = x[0]\n",
        "  key = x[1]\n",
        "\n",
        "  for i in range (0,length):\n",
        "    num_dict[key[i]] = value[i]\n",
        "  \n",
        "  print(num_dict)\n",
        "\n",
        "#Call function to run program\n",
        "is_even_dict()"
      ],
      "execution_count": null,
      "outputs": [
        {
          "output_type": "stream",
          "text": [
            "Please enter the numbers with a comma seperating them: 1441.25,231.5,23\n",
            "{1441.25: True, 231.5: True, 23.0: False}\n"
          ],
          "name": "stdout"
        }
      ]
    },
    {
      "cell_type": "markdown",
      "metadata": {
        "id": "EXPv2CWzRDgl"
      },
      "source": [
        "**e)** **[10 pts]** Define a function called `isEvenTuple` by modifying the function you created in Q1.d to traverse the values of the returned dictionary **in reverse order** and return the dictionary keys that has a **`TRUE`** value as a tuple.  For example, given `[1441.25, 231.5, 23]` the function returns `(231.5 1441.25)`."
      ]
    },
    {
      "cell_type": "code",
      "metadata": {
        "id": "JFgrhydBYiNd",
        "colab": {
          "base_uri": "https://localhost:8080/"
        },
        "outputId": "e05b5633-fd0b-4554-d41b-69e415bad0ff"
      },
      "source": [
        "#Define function isEvenTuple\n",
        "def isEvenTuple():\n",
        "\n",
        "  x = is_even_vec()\n",
        "  num_dict = dict()\n",
        "  \n",
        "  #reverse the orders of each list\n",
        "  length = len(x[0])\n",
        "  value = x[0]\n",
        "  value = value[::-1]\n",
        "  key = x[1]\n",
        "  key = key[::-1]\n",
        "\n",
        "  #create dictionary\n",
        "  for i in range (0,length):\n",
        "    num_dict[key[i]] = value[i]\n",
        "\n",
        "\n",
        "  #use conditional statments to find all true values\n",
        "  tup = []\n",
        "  for j in num_dict.keys():\n",
        "    if is_even(j) == True:\n",
        "      tup.append(j)\n",
        "\n",
        "  print(tuple(tup))\n",
        "\n",
        "isEvenTuple()"
      ],
      "execution_count": null,
      "outputs": [
        {
          "output_type": "stream",
          "text": [
            "Please enter the numbers with a comma seperating them: 1441.25,231.5,23\n",
            "(231.5, 1441.25)\n"
          ],
          "name": "stdout"
        }
      ]
    },
    {
      "cell_type": "markdown",
      "metadata": {
        "id": "ES2Lj2aup8BB"
      },
      "source": [
        "*****"
      ]
    },
    {
      "cell_type": "markdown",
      "metadata": {
        "id": "TEbtnn-0pg6K",
        "nteract": {
          "transient": {
            "deleting": false
          }
        }
      },
      "source": [
        "\n",
        "\n",
        "### Question 2 **[30 pts]** :\n",
        "\n"
      ]
    },
    {
      "cell_type": "markdown",
      "metadata": {
        "id": "TJ9u04Y7Tz2-"
      },
      "source": [
        "**a) **[10 pts]** Define a function called `three_sub_str` that takes in as input a string and returns a string made of the first 3 and the last 3 characters from the input. If the string length is less than 3, return instead the string `Not Possible`.\n",
        "\n",
        "Examples:\n",
        "1. Input: 'watermelon'; Output: 'watlon\n",
        "2. Input: 'try'; Output: 'trytry'\n",
        "3. Input: 'as'; Output: Not Possible"
      ]
    },
    {
      "cell_type": "code",
      "metadata": {
        "id": "GcFX7a7aYjSb",
        "colab": {
          "base_uri": "https://localhost:8080/"
        },
        "outputId": "61570d9d-5b06-4efa-de74-ec49fff4b0db"
      },
      "source": [
        "#define function three_sub_str\n",
        "def three_sub_str():\n",
        "  string = input(\"Please enter a string: \")\n",
        "\n",
        "  f_str = []\n",
        "  l_str = []\n",
        "  #Use condition to check if string is long enough\n",
        "  if len(string) < 3:\n",
        "      print(\"Input: '\", string, \"'; Output: Not Possible\")\n",
        "  else:\n",
        "      f_str = string[0:3]\n",
        "      l_str = string[-3:]\n",
        "      print(\"Input: '\", string, \"'; Output: '\", f_str, l_str, \"'\" ,sep = '')\n",
        "    \n",
        "\n",
        "three_sub_str()\n"
      ],
      "execution_count": null,
      "outputs": [
        {
          "output_type": "stream",
          "text": [
            "Please enter a string: watermelon\n",
            "Input: 'watermelon'; Output: 'watlon'\n"
          ],
          "name": "stdout"
        }
      ]
    },
    {
      "cell_type": "markdown",
      "metadata": {
        "id": "dGqJtsN4AvPB"
      },
      "source": [
        "**b)** **[10 pts]** Define a function `five_reverse` that takes as input a string and returns the reverse of the string if its length is a multiple of 5 else returns the original string.\n",
        "\n",
        "Examples:\n",
        "1. Input: 'GreenApple'; Output: 'elppAneerG'\n",
        "2. Input 'RedApple'; Output 'RedApple'"
      ]
    },
    {
      "cell_type": "code",
      "metadata": {
        "id": "DKkR3vRRYjun",
        "colab": {
          "base_uri": "https://localhost:8080/"
        },
        "outputId": "9ef81c2b-ff9d-4c56-bb08-d57c68f9afdd"
      },
      "source": [
        "#define function five_reverse\n",
        "def five_reverse():\n",
        "  string = input(\"Please enter a string: \")\n",
        "\n",
        "  #check if string is multiple of 5 or not\n",
        "  if len(string) % 5 == 0:\n",
        "    reverseString = string[::-1]\n",
        "    print(\"Input: '\", string, \"'; Output: '\", reverseString, \"'\")\n",
        "  else:\n",
        "    print(\"Input: '\", string, \"'; Output: '\", string, \"'\")\n",
        "  \n",
        "five_reverse()"
      ],
      "execution_count": null,
      "outputs": [
        {
          "output_type": "stream",
          "text": [
            "Please enter a string: Greenapple\n",
            "Input: ' Greenapple '; Output: ' elppaneerG '\n"
          ],
          "name": "stdout"
        }
      ]
    },
    {
      "cell_type": "markdown",
      "metadata": {
        "id": "TK1dYXTIYsh2"
      },
      "source": [
        "**c)** **[10 pts]** Define a function `count_char` that takes in as input a string and a boolen value and returns a dictonary that has each charater in the string as key and the count of the number of times the character appeared in the string as value. If the boolean value is `True` then it returns the dict with only the most frequent character else returns the entire dictonary\n",
        "\n",
        "Examples:\n",
        "1. Input: 'apple', False; Output: {'a': 1, 'p': 2, 'l': '1', e: '1'}\n",
        "2. Input: 'apple', True; Output: {'p': 2}"
      ]
    },
    {
      "cell_type": "code",
      "metadata": {
        "id": "tu9hnYqDYkbG",
        "colab": {
          "base_uri": "https://localhost:8080/"
        },
        "outputId": "f945f9fe-7c8b-4cef-bb58-6d6294dbff97"
      },
      "source": [
        "#define function count char\n",
        "from ast import literal_eval\n",
        "def count_char():\n",
        "  boolean, string = (input('Enter Boolean expression: ')), input(\"Enter String: \")\n",
        "\n",
        "  #create a dictionary\n",
        "  char_dict = dict()\n",
        "  max_char_dict = dict()\n",
        "\n",
        "  for i in  string[0:len(string)]:\n",
        "    count = string.count(i)\n",
        "    char_dict[i] = count\n",
        "    max_key = max(char_dict, key = char_dict.get)\n",
        "  \n",
        "  #Store values for maximum count only\n",
        "  max_char_dict[max_key] = char_dict.get(max_key)\n",
        "  \n",
        "  #Use if condtion to run True or false bool\n",
        "  if boolean == (\"false\") or boolean == \"False\":\n",
        "    print(\"Input: '\", string, \"'\", boolean, \"; Output: \", char_dict)\n",
        "  else:\n",
        "    print(\"Input: '\", string, \"'\", boolean, \"; Output: \", max_char_dict)\n",
        "\n",
        "\n",
        "\n",
        "count_char()"
      ],
      "execution_count": null,
      "outputs": [
        {
          "output_type": "stream",
          "text": [
            "Enter Boolean expression: TRUE \n",
            "Enter String: applle\n",
            "Input: ' applle ' TRUE  ; Output:  {'p': 2}\n"
          ],
          "name": "stdout"
        }
      ]
    },
    {
      "cell_type": "markdown",
      "metadata": {
        "id": "mkFrWZ3kAvPQ"
      },
      "source": [
        "**BONUS** **[10 pts]** Define a function called `min_sub_str` that takes two string arguments ( S and T ) and returns the first possible substring (traversing from left) containing all the elements of `T`. For example: given `S = 'xBxxAxxCxxAxCxxBxxxAxCxBxxxAxxBxCx'` and `T = \"ABC\"`, returns **`\"BxxAxxC\"`**\n"
      ]
    },
    {
      "cell_type": "code",
      "metadata": {
        "id": "IBIkXTGpYk59",
        "colab": {
          "base_uri": "https://localhost:8080/"
        },
        "outputId": "cd6c0e9d-ace7-4b11-cf2c-fd2c652d4f07"
      },
      "source": [
        "#define function min-sub_str\n",
        "import re\n",
        "def min_sub_str():\n",
        "  S, T = input(\"Please enter first string: \"), input(\"Please enter second string: \")\n",
        "  print(S)\n",
        "  print(T)\n",
        "\n",
        "  re_string = '.*'.join(T)\n",
        "  REGEX = re.compile(re_string)\n",
        "  print(REGEX.findall(S))\n",
        "\n",
        "\n",
        "\n",
        "min_sub_str()"
      ],
      "execution_count": 96,
      "outputs": [
        {
          "output_type": "stream",
          "text": [
            "Please enter first string: 'xBxxAxxCxxAxCxxBxxxAxCxBxxxAxxBxCx'\n",
            "Please enter second string: ABC\n",
            "'xBxxAxxCxxAxCxxBxxxAxCxBxxxAxxBxCx'\n",
            "ABC\n",
            "['AxxCxxAxCxxBxxxAxCxBxxxAxxBxC']\n"
          ],
          "name": "stdout"
        }
      ]
    },
    {
      "cell_type": "markdown",
      "metadata": {
        "id": "M9eJ34NNAvPT"
      },
      "source": [
        "*****"
      ]
    },
    {
      "cell_type": "markdown",
      "metadata": {
        "id": "NNVEX5FMq_I7"
      },
      "source": [
        "### Question 3 **[20 pts]**:\n"
      ]
    },
    {
      "cell_type": "markdown",
      "metadata": {
        "id": "oDRF95yUAvPW",
        "pycharm": {
          "name": "#%% md\n"
        }
      },
      "source": [
        "Define three classes, `Polygon`, `Rectangle` and `Square`. `Polygon` will be the parent class of `Triangle` and `Square`.\n",
        "\n",
        "1. The `Polygon` should have a function called `WhoAmI` and it should print out `Triangle` if the current object is a triangle or `Square` if the current object is a square.\n",
        "\n",
        "2. When you create a `Rectangle` object it should generate 2 random integers as the sides of the rectangle and store the values in the class.\n",
        "\n",
        "3. Similarly, for `Square` it should randomly generate 1 random integer to denote one side of the square and store it in the class. \n",
        "\n",
        "4. Also, each of the `Rectangle` and `Square` classes should have a function called `findArea` that computes and returns the `Polygon` area. \n",
        "\n",
        "5. The `Polygon` should have a function called `side_lengths` to print the side lengths of the polygon.\n",
        "\n",
        "6. The sides can be any value between 1 and 100, Inclusively.\n",
        "\n",
        "Create 5 Triangle and 5 Square objects and print out all the properties in a loop.\n",
        "\n",
        "It would be best if you mimicked this behaviour.\n",
        "\n",
        "```\n",
        "rect_obj = Rectangle()\n",
        "sq_obj = Square()\n",
        "\n",
        "rect_obj.WhoAmI()\n",
        "Output \"Rectangle\"\n",
        "\n",
        "rect_obj.side_lengths()\n",
        "Output: [5,6] // Random integers that were chosen\n",
        "\n",
        "rect_obj.findArea()\n",
        "Output: 30\n",
        "\n",
        "sq_obj.WhoAmI()\n",
        "Output: \"Square\"\n",
        "\n",
        "sq_obj.side_lengths()\n",
        "Output: [6]\n",
        "\n",
        "sq_obj.findArea()\n",
        "Output: 36\n",
        "```"
      ]
    },
    {
      "cell_type": "code",
      "metadata": {
        "id": "I7InKmYHYmBW",
        "colab": {
          "base_uri": "https://localhost:8080/"
        },
        "outputId": "69a90ea0-c349-43db-91f1-102602543701"
      },
      "source": [
        "import random\n",
        "import math\n",
        "\n",
        "#Define parent class polygon\n",
        "class polygon:\n",
        "\n",
        "  def __init__(self, no_unique_sides):\n",
        "    self.no_unique_sides = no_unique_sides\n",
        "    \n",
        "\n",
        "  def who_am_i(self):\n",
        "    print(\"The name of the polygon is {}\".format(self.shape))\n",
        "   \n",
        "\n",
        "  def side_lengths(self):\n",
        "    print(\"The side(s) of {} are {}\".format(self.shape,self.sides))\n",
        "\n",
        "  def findArea1(self, area):\n",
        "    self.area = area\n",
        "    print(\"The area of the {} is {}\".format(self.shape, self.area))\n",
        "\n",
        "\n",
        "#define sub class triangle\n",
        "class triangle(polygon):\n",
        "  pass\n",
        "\n",
        "#define sub parent class rectangle\n",
        "class rectangle(polygon):\n",
        " \n",
        "  def __init__(self):\n",
        "    self.shape = 'Rectangle'\n",
        "    self.sides = rec_lst\n",
        "\n",
        "  def findArea(self):\n",
        "    rec_area = rec_lst[0] * rec_lst[1]\n",
        "    self.findArea1(rec_area)\n",
        "\n",
        "\n",
        "rec_lst = random.sample(range(0,100), 2)\n",
        "  \n",
        "\n",
        "#define sub class square\n",
        "class square(rectangle):\n",
        "  def __init__(self):\n",
        "    self.shape = 'Square'\n",
        "    self.sides = sqr_lst\n",
        "\n",
        "  def findArea(self):\n",
        "    sqr_area = sqr_lst ** 2\n",
        "    self.findArea1(sqr_area)\n",
        "\n",
        "\n",
        "sqr_lst = random.randint(0,100)\n",
        "\n",
        "#define class for triangle\n",
        "class triangle(polygon):\n",
        "\n",
        "  def __init__(self):\n",
        "    self.shape = 'Triangle'\n",
        "    self.sides = tri_lst\n",
        "\n",
        "  def findArea(self):\n",
        "    p = (tri_lst[0] + tri_lst[1] + tri_lst[2]) / 2\n",
        "    tri_area = math.sqrt(p * (p - tri_lst[0]) * (p - tri_lst[1]) * (p - tri_lst[2]))\n",
        "    self.findArea1(round(tri_area, 2))\n",
        "\n",
        "#* (p - tri_lst[1]) * (p - tri_lst[2])) ** 1/2\n",
        "tri_lst = random.sample(range(0,100), 3)\n",
        "\n",
        "\n",
        "#------------------------------------\n",
        "#instantiate objects of each class\n",
        "rect_obj = rectangle()\n",
        "sq_obj = square()\n",
        "tri_obj = triangle()\n",
        "\n",
        "\n",
        "\n",
        "\n",
        "rect_obj.who_am_i()\n",
        "rect_obj.side_lengths()\n",
        "rect_obj.findArea()\n",
        "print('-' * 50)\n",
        "\n",
        "\n",
        "for i in range (0,5):\n",
        "  sq_obj.who_am_i()\n",
        "  sq_obj.side_lengths()\n",
        "  sq_obj.findArea()\n",
        "  print('-' * 50)\n",
        "  tri_obj.who_am_i()\n",
        "  tri_obj.side_lengths()\n",
        "  tri_obj.findArea()\n",
        "  print('-' * 50)\n",
        "  print('-' * 50)\n"
      ],
      "execution_count": 95,
      "outputs": [
        {
          "output_type": "stream",
          "text": [
            "The name of the polygon is Rectangle\n",
            "The side(s) of Rectangle are [89, 11]\n",
            "The area of the Rectangle is 979\n",
            "--------------------------------------------------\n",
            "The name of the polygon is Square\n",
            "The side(s) of Square are 26\n",
            "The area of the Square is 676\n",
            "--------------------------------------------------\n",
            "The name of the polygon is Triangle\n",
            "The side(s) of Triangle are [72, 70, 9]\n",
            "The area of the Triangle is 310.88\n",
            "--------------------------------------------------\n",
            "--------------------------------------------------\n",
            "The name of the polygon is Square\n",
            "The side(s) of Square are 26\n",
            "The area of the Square is 676\n",
            "--------------------------------------------------\n",
            "The name of the polygon is Triangle\n",
            "The side(s) of Triangle are [72, 70, 9]\n",
            "The area of the Triangle is 310.88\n",
            "--------------------------------------------------\n",
            "--------------------------------------------------\n",
            "The name of the polygon is Square\n",
            "The side(s) of Square are 26\n",
            "The area of the Square is 676\n",
            "--------------------------------------------------\n",
            "The name of the polygon is Triangle\n",
            "The side(s) of Triangle are [72, 70, 9]\n",
            "The area of the Triangle is 310.88\n",
            "--------------------------------------------------\n",
            "--------------------------------------------------\n",
            "The name of the polygon is Square\n",
            "The side(s) of Square are 26\n",
            "The area of the Square is 676\n",
            "--------------------------------------------------\n",
            "The name of the polygon is Triangle\n",
            "The side(s) of Triangle are [72, 70, 9]\n",
            "The area of the Triangle is 310.88\n",
            "--------------------------------------------------\n",
            "--------------------------------------------------\n",
            "The name of the polygon is Square\n",
            "The side(s) of Square are 26\n",
            "The area of the Square is 676\n",
            "--------------------------------------------------\n",
            "The name of the polygon is Triangle\n",
            "The side(s) of Triangle are [72, 70, 9]\n",
            "The area of the Triangle is 310.88\n",
            "--------------------------------------------------\n",
            "--------------------------------------------------\n"
          ],
          "name": "stdout"
        }
      ]
    },
    {
      "cell_type": "markdown",
      "metadata": {
        "id": "l9l0sjUoAvPk"
      },
      "source": [
        "#### This is the end of assignment 2"
      ]
    }
  ]
}