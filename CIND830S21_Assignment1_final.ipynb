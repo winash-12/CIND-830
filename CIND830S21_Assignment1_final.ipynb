{
  "nbformat": 4,
  "nbformat_minor": 0,
  "metadata": {
    "colab": {
      "name": "CIND830S21_Assignment1.ipynb",
      "provenance": [],
      "collapsed_sections": []
    },
    "kernelspec": {
      "display_name": "Python 3",
      "language": "python",
      "name": "python3"
    },
    "language_info": {
      "codemirror_mode": {
        "name": "ipython",
        "version": 3
      },
      "file_extension": ".py",
      "mimetype": "text/x-python",
      "name": "python",
      "nbconvert_exporter": "python",
      "pygments_lexer": "ipython3",
      "version": "3.7.6"
    },
    "nteract": {
      "version": "0.28.0"
    },
    "varInspector": {
      "cols": {
        "lenName": 16,
        "lenType": 16,
        "lenVar": 40
      },
      "kernels_config": {
        "python": {
          "delete_cmd_postfix": "",
          "delete_cmd_prefix": "del ",
          "library": "var_list.py",
          "varRefreshCmd": "print(var_dic_list())"
        },
        "r": {
          "delete_cmd_postfix": ") ",
          "delete_cmd_prefix": "rm(",
          "library": "var_list.r",
          "varRefreshCmd": "cat(var_dic_list()) "
        }
      },
      "types_to_exclude": [
        "module",
        "function",
        "builtin_function_or_method",
        "instance",
        "_Feature"
      ],
      "window_display": false
    }
  },
  "cells": [
    {
      "cell_type": "markdown",
      "metadata": {
        "id": "kJ6ssXaGJfGN"
      },
      "source": [
        "## CIND830 - Python Programming for Data Science  \n",
        "### Assignment 1 (10% of the final grade) \n",
        "### Due on May 17, 2021 11:59 PM  "
      ]
    },
    {
      "cell_type": "markdown",
      "metadata": {
        "id": "UWjXw7DsJfGP"
      },
      "source": [
        "*****\n",
        "This is a Jupyter Notebook document that extends a simple formatting syntax for authoring HTML and PDF. Review [this](https://jupyter-notebook.readthedocs.io/en/stable/notebook.html) website for more details on using Jupyter Notebooks.\n",
        "\n",
        "Use the JupyterHub server on the Google Cloud Platform, provided by your designated instructor, for this assignment. Ensure using **Python 3.7.6** release then complete the assignment by inserting your Python code wherever seeing the string `#INSERT YOUR ANSWER HERE.`\n",
        "\n",
        "When you click the `File` button, from the top navigation bar, then select `Export Notebook to HTML`, an HTML document will be generated that includes both the assignment content and the output of any embedded Python code chunks.\n",
        "\n",
        "Use [these](https://www.ryerson.ca/courses/students/tutorials/assignments/) guidelines to submit **both** the IPYNB and the exported file (HTML). Failing to submit both files will be subject to mark deduction.\n",
        "\n",
        "Please be advised that you cannot get more than 100% in this assignment, and the **BONUS** question will only be graded if all other questions have been submitted."
      ]
    },
    {
      "cell_type": "markdown",
      "metadata": {
        "id": "KccezTOKLkSB"
      },
      "source": [
        "*****\n"
      ]
    },
    {
      "cell_type": "markdown",
      "metadata": {
        "id": "WDnedbU6LkSB"
      },
      "source": [
        "### Question 1  **[30 pts]**:\n",
        "\n",
        "**a)**  **[10 pts]**  Write a Python program that accepts a list of marks then prints the letter grade and description according to the [Grading System](https://continuing.ryerson.ca/contentManagement.do?method=load&code=CM000034) of the Chang School of Continuing Education.\n",
        "\n",
        "For example, if the user enters `90, 120, -12, 71.5, 62.5`, the output would be as follows:\n",
        "\n",
        "| Mark | Letter Grade | Performance Description |\n",
        "|:-:|:-:|:-:|\n",
        "| 90 | A+ | Excellent |\n",
        "| 120 | Not Possible | Not Possible |\n",
        "| -12 | Not Possible | Not Possible |\n",
        "| 71.5 | B- | Good |\n",
        "| 62.5 | C | Satisfactory |"
      ]
    },
    {
      "cell_type": "code",
      "metadata": {
        "jupyter": {
          "outputs_hidden": false
        },
        "pycharm": {
          "name": "#%%\n"
        },
        "id": "bOSSg4daLkSC",
        "colab": {
          "base_uri": "https://localhost:8080/"
        },
        "outputId": "d0db5de4-bcbf-4dfd-905a-ee0f9a2cf1fa"
      },
      "source": [
        "#INSERT YOUR ANSWER HERE.\n",
        "#get the input from user\n",
        "def marks(): \n",
        "  inp = input('Please enter the marks for the program with commas seperating them: ')\n",
        "  marks = inp.split(\",\")\n",
        "\n",
        "  #convert to integers\n",
        "  marks_int = []\n",
        "  for i in marks:\n",
        "    marks_int.append(float(i))\n",
        "\n",
        "  print('\\nThe marks entered are: ', marks_int)\n",
        "  return marks_int\n",
        "\n",
        "#check if the marks are appropriate\n",
        "'''\n",
        "marks_int = [i for i in marks_int if i >= 0 and i < 100]\n",
        "print('The Updated marks are: ', marks_int)\n",
        "'''\n",
        "marks_int = marks()\n",
        "#Conditional statements for letter grading\n",
        "print('-' * 50)\n",
        "print('\\n\\nMarks\\tLetter Grade\\tPerfromace Description')\n",
        "for j in (marks_int):\n",
        "  if j >= 0 and j <= 100:\n",
        "      if j <= 49 and j > -1:\n",
        "       print('%.1f:\\t%s\\t\\t%s' % (j, 'F', 'Unsatisfactory'))\n",
        "      elif j <= 52:\n",
        "        print('%.1f:\\t%s\\t\\t%s' % (j, 'D-', 'Marginal'))\n",
        "      elif j <= 56:\n",
        "        print('%.1f:\\t%s\\t\\t%s' % (j, 'D', 'Marginal'))\n",
        "      elif j <= 59:\n",
        "        print('%.1f:\\t%s\\t\\t%s' % (j, 'D+', 'Marginal'))\n",
        "      elif j <= 62:\n",
        "        print('%.1f:\\t%s\\t\\t%s' % (j, 'C-', 'Satisfactory'))\n",
        "      elif j <= 66:\n",
        "        print('%.1f:\\t%s\\t\\t%s' % (j, 'C', 'Satisfactory'))\n",
        "      elif j <= 69:\n",
        "        print('%.1f:\\t%s\\t\\t%s' % (j, 'C+', 'Satisfactory'))\n",
        "      elif j <= 72:\n",
        "        print('%.1f:\\t%s\\t\\t%s' % (j, 'B-', 'Good'))\n",
        "      elif j <= 76:\n",
        "        print('%.1f:\\t%s\\t\\t%s' % (j, 'B', 'Good'))\n",
        "      elif j <= 79:\n",
        "        print('%.1f:\\t%s\\t\\t%s' % (j, 'B+', 'Good'))\n",
        "      elif j <= 84:\n",
        "        print('%.1f:\\t%s\\t\\t%s' % (j, 'A-', 'Excellent'))\n",
        "      elif j <= 89:\n",
        "        print('%.1f:\\t%s\\t\\t%s' % (j, 'A', 'Excellent'))\n",
        "      elif j <= 100:\n",
        "        print('%.1f:\\t%s\\t\\t%s' % (j, 'A+', 'Excellent'))\n",
        "  else:\n",
        "    print('%.1f:\\t%s\\t\\t%s' % (j, 'N/A', 'Not Possible'))\n",
        "\n",
        "print('-' * 50)\n"
      ],
      "execution_count": 2,
      "outputs": [
        {
          "output_type": "stream",
          "text": [
            "Please enter the marks for the program with commas seperating them: 90, 120, -12, 71.5, 62.5\n",
            "\n",
            "The marks entered are:  [90.0, 120.0, -12.0, 71.5, 62.5]\n",
            "--------------------------------------------------\n",
            "\n",
            "\n",
            "Marks\tLetter Grade\tPerfromace Description\n",
            "90.0:\tA+\t\tExcellent\n",
            "120.0:\tN/A\t\tNot Possible\n",
            "-12.0:\tN/A\t\tNot Possible\n",
            "71.5:\tB-\t\tGood\n",
            "62.5:\tC\t\tSatisfactory\n",
            "--------------------------------------------------\n"
          ],
          "name": "stdout"
        }
      ]
    },
    {
      "cell_type": "markdown",
      "metadata": {
        "id": "aKzIenHoLkSC"
      },
      "source": [
        "**b)**  **[10 pts]** Write a code to compute and print the sum of squares of only the `Excellent` marks.\n",
        "\n",
        "For example, if the user enters `90.5, 120, -12, 71.3, 82.2, 62.5`, then the output should be: <br>\n",
        "`The Excellent marks are:  [90.5, 82.2]`<br>\n",
        "`The sum of squares is  14947.09`"
      ]
    },
    {
      "cell_type": "code",
      "metadata": {
        "jupyter": {
          "outputs_hidden": false
        },
        "pycharm": {
          "name": "#%%\n"
        },
        "id": "ie0o2ByPLkSC",
        "colab": {
          "base_uri": "https://localhost:8080/"
        },
        "outputId": "aab5533e-68b4-462f-dd04-a31405fad757"
      },
      "source": [
        "#INSERT YOUR ANSWER HERE.\n",
        "#get the input from user\n",
        "ex_marks = marks()\n",
        "\n",
        "#check if the marks are appropriate\n",
        "\n",
        "ex_marks = [i for i in ex_marks if i > 79 and i <= 100]\n",
        "print('-' * 50)\n",
        "print('The Excellent marks are: ', ex_marks)\n",
        "\n",
        "#Find the sum of squares\n",
        "sum = 0\n",
        "for k in ex_marks:\n",
        "  square = k ** 2\n",
        "  sum += square\n",
        "\n",
        "print('The sum of squares is: %.2f' %sum)\n",
        "\n"
      ],
      "execution_count": 4,
      "outputs": [
        {
          "output_type": "stream",
          "text": [
            "Please enter the marks for the program with commas seperating them: 90.5, 120, -12, 71.3, 82.2, 62.5\n",
            "\n",
            "The marks entered are:  [90.5, 120.0, -12.0, 71.3, 82.2, 62.5]\n",
            "--------------------------------------------------\n",
            "The Excellent marks are:  [90.5, 82.2]\n",
            "The sum of squares is: 14947.09\n"
          ],
          "name": "stdout"
        }
      ]
    },
    {
      "cell_type": "markdown",
      "metadata": {
        "id": "01npS3MvLkSC"
      },
      "source": [
        "**c)**  **[10 pts]** Write a code to compute and print the `Median`, `Average` and `Mode` of the marks between 0 and 100 after rounding each mark to the nearest integer.  Ensure notifying the user if there is no unique mode found, as the `Mode` in this exercise returns only the single most common mark in the list.\n",
        "\n",
        "For example, if the user enters `89.7, 120, -12, 90, 60.2`, then the output should be: <br>\n",
        "`The valid marks are:  [90, 90, 60] `<br>\n",
        "`Median is 90 ; Average is 80 ; Mode is 90`\n",
        "\n",
        "However, if the user enters `90.6, 70, 100, 40.4`, then the output should be: <br>\n",
        "`The valid marks are:  [91, 70, 100, 40] `<br>\n",
        "`Median is 80.5 ; Average is 75.25 ; No unique mode found`\n",
        "\n",
        "Also, if the user enters `65, 65, 65, 35, 35, 35`, then the output should be: <br>\n",
        "`The valid marks are:  [65, 65, 65, 35, 35, 35] `<br>\n",
        "`Median is 50.0 ; Average is 50 ; No unique mode found`\n",
        "\n",
        "**Hint:** Use the `statistics` module as it provides functions to calculate mathematical statistics of numeric data."
      ]
    },
    {
      "cell_type": "code",
      "metadata": {
        "jupyter": {
          "outputs_hidden": false
        },
        "pycharm": {
          "name": "#%%\n"
        },
        "id": "speAKdfdLkSD",
        "colab": {
          "base_uri": "https://localhost:8080/"
        },
        "outputId": "78a149e9-70b8-40ac-dcd1-b7e3e5bbc84c"
      },
      "source": [
        "#INSERT YOUR ANSWER HERE.\n",
        "import statistics\n",
        "\n",
        "#get the input from user\n",
        "valid_marks = marks()\n",
        "\n",
        "#Find the valid marks\n",
        "valid_marks = [i for i in valid_marks if i >= 0 and i <= 100]\n",
        "\n",
        "#round the marks to nearest integer\n",
        "valid = []\n",
        "for i in valid_marks:\n",
        "  valid.append(round(i))\n",
        "print('The Valid marks are: ', valid)\n",
        "\n",
        "#Find median of the marks\n",
        "try:\n",
        "  print('The Median is %.2f; The Average is %.2f; The mode is %.2f' %(statistics.median(valid), statistics.mean(valid), statistics.mode(valid)))\n",
        "except:\n",
        "  print('The Median is %.2f; The Average is %.2f; No unique mode found' %(statistics.median(valid), statistics.mean(valid)))\n",
        "\n",
        "\n",
        "\n",
        "#89.7,120,-12,90,60.2\n",
        "#90.6, 70, 100, 40.4\n",
        "#65,65,65,35,35,35"
      ],
      "execution_count": 6,
      "outputs": [
        {
          "output_type": "stream",
          "text": [
            "Please enter the marks for the program with commas seperating them: 89.7, 120, -12, 90, 60.2\n",
            "\n",
            "The marks entered are:  [89.7, 120.0, -12.0, 90.0, 60.2]\n",
            "The Valid marks are:  [90, 90, 60]\n",
            "The Median is 90.00; The Average is 80.00; The mode is 90.00\n"
          ],
          "name": "stdout"
        }
      ]
    },
    {
      "cell_type": "markdown",
      "metadata": {
        "pycharm": {
          "name": "#%% md\n"
        },
        "id": "gSopFr-sLkSD"
      },
      "source": [
        "*****"
      ]
    },
    {
      "cell_type": "markdown",
      "metadata": {
        "id": "LWl1BhzzLkSD"
      },
      "source": [
        "\n",
        "### Question 2  **[40 pts]**:\n",
        "**a)**  **[10 pts]** Write a code that creates a set of different passwords.  Each password is a combination of a random adjective, noun, two digits and two punctuation symbols.\n",
        "\n",
        "For example, if the user asks for generating 4 passwords, then the code might generate the following list:\n",
        "\n",
        "| Password |\n",
        "|:-|\n",
        "| supershine17*-  |\n",
        "| cheerfulmeet78~.  |\n",
        "| elitemango32&,  |\n",
        "| glossytrain14$} |\n",
        "\n",
        "**Hint:**  You can use the `wonderwords` library to generate random words of the English language"
      ]
    },
    {
      "cell_type": "code",
      "metadata": {
        "jupyter": {
          "outputs_hidden": false
        },
        "pycharm": {
          "name": "#%%\n"
        },
        "id": "79uqu54rLkSD",
        "colab": {
          "base_uri": "https://localhost:8080/"
        },
        "outputId": "84a33cc8-0e9d-4124-8017-b3e0e11b1964"
      },
      "source": [
        "#INSERT YOUR ANSWER HERE.\n",
        "!pip install wonderwords\n",
        "\n",
        "import string\n",
        "import random\n",
        "import wonderwords\n",
        "from wonderwords import RandomWord\n",
        "from random import randint\n",
        "\n",
        "rand_word = RandomWord()\n",
        "\n",
        "#ask the user for the number of passwords\n",
        "def input_pw():\n",
        "  input_num = input('Please enter the Number of passwords: ')\n",
        "  input_num = int(input_num)\n",
        "  print('-' * 50)\n",
        "  return input_num\n",
        "\n",
        "\n",
        "\n",
        "#function of a  loop to generate the pws for the number of times given by the user\n",
        "def generate_pw(num):\n",
        "  for i in range (num):\n",
        "    first = rand_word.word(include_parts_of_speech=[\"adjectives\"])\n",
        "    second = rand_word.word(include_parts_of_speech=[\"nouns\"])\n",
        "    third = randint(10,99)\n",
        "    last_1 = random.choice(string.punctuation) \n",
        "    last_2 = random.choice(string.punctuation) \n",
        "    all = first + second + str(third) + last_1 + last_2\n",
        "    print(all)\n",
        "\n",
        "\n",
        "num = input_pw()\n",
        "generate_pw(num)"
      ],
      "execution_count": 7,
      "outputs": [
        {
          "output_type": "stream",
          "text": [
            "Collecting wonderwords\n",
            "\u001b[?25l  Downloading https://files.pythonhosted.org/packages/b4/a4/6a7705c6e17de71e45782a0284e06691f85350adb80b1dea9c027c07f024/wonderwords-2.2.0-py3-none-any.whl (44kB)\n",
            "\r\u001b[K     |███████▎                        | 10kB 20.2MB/s eta 0:00:01\r\u001b[K     |██████████████▋                 | 20kB 15.0MB/s eta 0:00:01\r\u001b[K     |█████████████████████▉          | 30kB 9.3MB/s eta 0:00:01\r\u001b[K     |█████████████████████████████▏  | 40kB 8.1MB/s eta 0:00:01\r\u001b[K     |████████████████████████████████| 51kB 3.5MB/s \n",
            "\u001b[?25hInstalling collected packages: wonderwords\n",
            "Successfully installed wonderwords-2.2.0\n",
            "Please enter the Number of passwords: 4\n",
            "--------------------------------------------------\n",
            "holisticspade28*\\\n",
            "unevenstatin31@;\n",
            "niftyarmpit22*\\\n",
            "legalpassenger10}'\n"
          ],
          "name": "stdout"
        }
      ]
    },
    {
      "cell_type": "markdown",
      "metadata": {
        "id": "yhmZoEbtLkSD"
      },
      "source": [
        "**b)**  **[10 pts]** Count the letters of each generated password in Q2.a, then print the password along with its number of letters.\n",
        "\n",
        "For example, if the user enters 4, then the output might be as follows:\n",
        "\n",
        "| Password | Length |\n",
        "|:-|:-|\n",
        "| supershine17*-  | 14 |\n",
        "| cheerfulmeet78~.  | 16|\n",
        "| elitemango32&,  | 14|\n",
        "| glossytrain14$} | 15 |\n",
        "\n"
      ]
    },
    {
      "cell_type": "code",
      "metadata": {
        "jupyter": {
          "outputs_hidden": false
        },
        "pycharm": {
          "name": "#%%\n"
        },
        "id": "GZEnVwffLkSE",
        "colab": {
          "base_uri": "https://localhost:8080/"
        },
        "outputId": "f634f0e6-a343-41d8-8c4a-848b744ef84d"
      },
      "source": [
        "#INSERT YOUR ANSWER HERE.\n",
        "random.seed()\n",
        "\n",
        "#function to generate pw and generate pw with length\n",
        "def generate_pw_len(num):\n",
        "  for i in range (num):\n",
        "    first = rand_word.word(include_parts_of_speech=[\"adjectives\"])\n",
        "    second = rand_word.word(include_parts_of_speech=[\"nouns\"])\n",
        "    third = randint(10,99)\n",
        "    last_1 = random.choice(string.punctuation) \n",
        "    last_2 = random.choice(string.punctuation) \n",
        "    all = first + second + str(third) + last_1 + last_2\n",
        "    length = len(all)\n",
        "    if (length <= 15):\n",
        "      print(all + '\\t\\t ' + str(length))\n",
        "    elif length >= 25:\n",
        "      print(all + ' ' + str(length))\n",
        "    else:\n",
        "      print(all + '\\t ' + str(length))\n",
        "\n",
        "  \n",
        "#call previous functions from question 2.a\n",
        "num = input_pw()\n",
        "\n",
        "print('Password\\t\\t Length')\n",
        "print('-' * 50)\n",
        "\n",
        "generate_pw_len(num)"
      ],
      "execution_count": 8,
      "outputs": [
        {
          "output_type": "stream",
          "text": [
            "Please enter the Number of passwords: 4\n",
            "--------------------------------------------------\n",
            "Password\t\t Length\n",
            "--------------------------------------------------\n",
            "tightambassador65[?\t 19\n",
            "ultraincident80*>\t 17\n",
            "huskychemical61\\?\t 17\n",
            "bizarrebend25-!\t\t 15\n"
          ],
          "name": "stdout"
        }
      ]
    },
    {
      "cell_type": "markdown",
      "metadata": {
        "id": "XfAovULALkSE"
      },
      "source": [
        "**c)**  **[10 pts]** Write a code to print only the passwords with more than 14 letters and either the letter 'o', the digit '3', or the punctuation symbol '~'.\n",
        "\n",
        "For example, the code would filter the 4 passwords listed in 2.a, and print the following output:\n",
        "\n",
        "| Password | Length |\n",
        "|:-|:-|\n",
        "| cheerfulmeet78~.  | 16|\n",
        "| glossytrain14$} | 15 |"
      ]
    },
    {
      "cell_type": "code",
      "metadata": {
        "jupyter": {
          "outputs_hidden": false
        },
        "pycharm": {
          "name": "#%%\n"
        },
        "id": "ecUgarLbLkSE",
        "colab": {
          "base_uri": "https://localhost:8080/"
        },
        "outputId": "afc79a41-03d1-4046-969d-6f2a5f900304"
      },
      "source": [
        "#INSERT YOUR ANSWER HERE.\n",
        "#call function to find number of pws\n",
        "num = input_pw()\n",
        "print('The accepted Passwords are: ')\n",
        "print('Password\\t\\t Length')\n",
        "\n",
        "#generate passwords and their length\n",
        "for i in range (num):\n",
        "  first = rand_word.word(include_parts_of_speech=[\"adjectives\"])\n",
        "  second = rand_word.word(include_parts_of_speech=[\"nouns\"])\n",
        "  third = randint(10,99)\n",
        "  last_1 = random.choice(string.punctuation) \n",
        "  last_2 = random.choice(string.punctuation) \n",
        "  all = first + second + str(third) + last_1 + last_2\n",
        "  length = len(all)\n",
        "  if length > 14:\n",
        "    if (third == 'o') or (last_1 == '~') or (last_2 == '~'):\n",
        "      print(all + '\\t ' + str(length))\n",
        "      if length > 19:\n",
        "        print(all + ' ' + str(length))\n",
        "  \n"
      ],
      "execution_count": 15,
      "outputs": [
        {
          "output_type": "stream",
          "text": [
            "Please enter the Number of passwords: 40\n",
            "--------------------------------------------------\n",
            "The accepted Passwords are: \n",
            "Password\t\t Length\n",
            "elfinjustification58=~\t 22\n",
            "elfinjustification58=~ 22\n",
            "breakableartery41~'\t 19\n",
            "skillfulchard28~.\t 17\n"
          ],
          "name": "stdout"
        }
      ]
    },
    {
      "cell_type": "markdown",
      "metadata": {
        "id": "tVCF8gsHLkSE"
      },
      "source": [
        "**d)**  **[10 pts]** Design an encoder that encrypts the passwords generated in Q2.a. by changing their letters into the octal form.\n",
        "\n",
        "For example, if the user enters 4, then the output might be as follows\n",
        "\n",
        "| Password | Encryption |\n",
        "|:-|:-|\n",
        "| supershine17*- | 0o1630o1650o1600o1450o1620o1630o1500o1510o1560o1450o610o670o520o55 |\n",
        "| cheerfulmeet78~. | 0o1430o1500o1450o1450o1620o1460o1650o1540o1550o1450o1450o1640o670o700o1760o56 |\n",
        "| elitemango32&, | 0o1450o1540o1510o1640o1450o1550o1410o1560o1470o1570o630o620o460o54 |\n",
        "| glossytrain14$} | 0o1470o1540o1570o1630o1630o1710o1640o1620o1410o1510o1560o610o640o440o175 |"
      ]
    },
    {
      "cell_type": "code",
      "metadata": {
        "jupyter": {
          "outputs_hidden": false
        },
        "pycharm": {
          "name": "#%%\n"
        },
        "id": "IQ-Ir3UnLkSE",
        "colab": {
          "base_uri": "https://localhost:8080/"
        },
        "outputId": "d49a92d6-2c9f-463d-e937-5f9215cd788c"
      },
      "source": [
        "#INSERT YOUR ANSWER HERE.\n",
        "#call function to find number of pws\n",
        "import string\n",
        "\n",
        "num = input_pw()\n",
        "\n",
        "print('Password\\t\\t\\t Encryption ')\n",
        "print('-' * 50)\n",
        "for i in range (num):\n",
        "  first = rand_word.word(include_parts_of_speech=[\"adjectives\"])\n",
        "  second = rand_word.word(include_parts_of_speech=[\"nouns\"])\n",
        "  third = randint(10,99)\n",
        "  last_1 = random.choice(string.punctuation) \n",
        "  last_2 = random.choice(string.punctuation) \n",
        "  all = first + second + str(third) + last_1 + last_2\n",
        "\n",
        "  octal = []\n",
        "  l = []\n",
        "\n",
        "#Use for loop to store encryption and print output\n",
        "  for j in all:\n",
        "    octal.append(oct(ord(j)))\n",
        "    l = ''.join(octal)\n",
        "  print(all + '\\t\\t' + l)\n",
        "\n",
        "\n"
      ],
      "execution_count": 17,
      "outputs": [
        {
          "output_type": "stream",
          "text": [
            "Please enter the Number of passwords: 3\n",
            "--------------------------------------------------\n",
            "Password\t\t\t Encryption \n",
            "--------------------------------------------------\n",
            "festivemonasticism87@[\t\t0o1460o1450o1630o1640o1510o1660o1450o1550o1570o1560o1410o1630o1640o1510o1430o1510o1630o1550o700o670o1000o133\n",
            "omniscientpolitician45~(\t\t0o1570o1550o1560o1510o1630o1430o1510o1450o1560o1640o1600o1570o1540o1510o1640o1510o1430o1510o1410o1560o640o650o1760o50\n",
            "iratepublic12!*\t\t0o1510o1620o1410o1640o1450o1600o1650o1420o1540o1510o1430o610o620o410o52\n"
          ],
          "name": "stdout"
        }
      ]
    },
    {
      "cell_type": "markdown",
      "metadata": {
        "id": "pHcWCZ8mJfGU"
      },
      "source": [
        "*****"
      ]
    },
    {
      "cell_type": "markdown",
      "metadata": {
        "id": "O3jPbo4vAvPc"
      },
      "source": [
        "### Question 3  **[30 pts]**:\n",
        "\n",
        "Write a program that accepts the coefficients of the following two lines as inputs\n",
        "\n",
        "Line1: $a_1x+b_1y + c_1 = 0$\n",
        "\n",
        "Line2: $a_2x+b_2y + c_2 = 0$\n",
        "\n",
        "Then checks whether the two lines are parallel, intersecting or overlapping according to the conditions listed below."
      ]
    },
    {
      "cell_type": "markdown",
      "metadata": {
        "id": "h_3gNcgeJfGU"
      },
      "source": [
        "**a)**  **[10 pts]** Intersecting lines: If $\\frac{a_1}{a_2} \\ne \\frac{b_1}{b_2}$"
      ]
    },
    {
      "cell_type": "code",
      "metadata": {
        "id": "L1uEFS0GAvPg",
        "colab": {
          "base_uri": "https://localhost:8080/"
        },
        "outputId": "543f05fe-4d1a-48a2-bc94-a3a782d82e6f"
      },
      "source": [
        "#INSERT YOUR ANSWER HERE.\n",
        "\n",
        "import math\n",
        "\n",
        "#function to ask user for values\n",
        "def user_input():\n",
        "  #Make arbitary varibales to store the values\n",
        "  eqn1 = []\n",
        "  eqn2 = []\n",
        "\n",
        "  #Ask the user to enter the coeffs for the eqns\n",
        "  header = ['Please enter the coeffs for the first equation - a1x + b1y + c1 = 0', 'Please enter the coeffs for the second equation - a1x + b1y + c1 = 0']\n",
        "  print(header[0])\n",
        "  for i in range(0,3):\n",
        "    num1 = int(input('Coefficent ' + str(i + 1) + ' - '))\n",
        "    eqn1.append(num1)\n",
        "\n",
        "  print(header[1])\n",
        "  for j in range(0,3):\n",
        "    num2 = int(input('Coefficent ' + str(j + 1) + ' - '))\n",
        "    eqn2.append(num2)\n",
        "\n",
        "  return eqn1, eqn2\n",
        "\n",
        "var1, var2 = user_input()\n",
        "\n",
        "#find whether or not the equation is intersecting\n",
        "num_1 = var1[0] / var2[0]\n",
        "num_2 = var1[1] / var2[1]\n",
        "num_3 = var1[2] / var2[2]\n",
        "\n",
        "print('-' * 50)\n",
        "if num_1 == num_2:\n",
        "  print('The lines for these equations will not intersect')\n",
        "else:\n",
        "  print('The lines for these equations will intersect')"
      ],
      "execution_count": 18,
      "outputs": [
        {
          "output_type": "stream",
          "text": [
            "Please enter the coeffs for the first equation - a1x + b1y + c1 = 0\n",
            "Coefficent 1 - 2\n",
            "Coefficent 2 - 3\n",
            "Coefficent 3 - 4\n",
            "Please enter the coeffs for the second equation - a1x + b1y + c1 = 0\n",
            "Coefficent 1 - 2\n",
            "Coefficent 2 - 4\n",
            "Coefficent 3 - 3\n",
            "--------------------------------------------------\n",
            "The lines for these equations will intersect\n"
          ],
          "name": "stdout"
        }
      ]
    },
    {
      "cell_type": "markdown",
      "metadata": {
        "id": "b5J7kRLZAvPe"
      },
      "source": [
        "**b)**   **[10 pts]** Parallel lines: If the lines are not intersecting and $\\frac{a_1}{a_2} = \\frac{b_1}{b_2} \\ne \\frac{c_1}{c_2}$"
      ]
    },
    {
      "cell_type": "code",
      "metadata": {
        "id": "bHHNxP0IAvPe",
        "colab": {
          "base_uri": "https://localhost:8080/"
        },
        "outputId": "f6714d8b-6112-4ada-a178-b666ef2fc44a"
      },
      "source": [
        "#INSERT YOUR ANSWER HERE.\n",
        "#Call user_input function from previous code\n",
        "var1, var2 = user_input()\n",
        "\n",
        "#decalre varibales for each math operation which are num_1, num_2 and num_3\n",
        "num_1 = var1[0] / var2[0]\n",
        "num_2 = var1[1] / var2[1]\n",
        "num_3 = var1[2] / var2[2]\n",
        "\n",
        "#determine whether or not the lines intersect are parallel or neither in some cases\n",
        "if num_1 == num_2:\n",
        "  if num_2 != num_3:\n",
        "    print('These are parallel lines as the lines are not intersecting')\n",
        "  else:\n",
        "    print('These are not parallel lines and the lines are not intersecting')\n",
        "else:\n",
        "  print('These are not parallel lines but the lines are intersecting')\n"
      ],
      "execution_count": 19,
      "outputs": [
        {
          "output_type": "stream",
          "text": [
            "Please enter the coeffs for the first equation - a1x + b1y + c1 = 0\n",
            "Coefficent 1 - 2\n",
            "Coefficent 2 - 3\n",
            "Coefficent 3 - 4\n",
            "Please enter the coeffs for the second equation - a1x + b1y + c1 = 0\n",
            "Coefficent 1 - 2\n",
            "Coefficent 2 - 3\n",
            "Coefficent 3 - 3\n",
            "These are parallel lines as the lines are not intersecting\n"
          ],
          "name": "stdout"
        }
      ]
    },
    {
      "cell_type": "markdown",
      "metadata": {
        "id": "6q5tUb98JfGV"
      },
      "source": [
        "**c)**   **[10 pts]** Overlapping lines: If the lines are not intersecting and $\\frac{a_1}{a_2} = \\frac{b_1}{b_2} = \\frac{c_1}{c_2}$"
      ]
    },
    {
      "cell_type": "code",
      "metadata": {
        "id": "PvQTbdc8AvPi",
        "colab": {
          "base_uri": "https://localhost:8080/"
        },
        "outputId": "d16f97c0-e225-4df7-f662-1bdef24873f5"
      },
      "source": [
        "#INSERT YOUR ANSWER HERE.\n",
        "#Call user_input function from previous code\n",
        "var1, var2 = user_input()\n",
        "\n",
        "#decalre varibales for each math operation which are num_1, num_2 and num_3\n",
        "num_1 = var1[0] / var2[0]\n",
        "num_2 = var1[1] / var2[1]\n",
        "num_3 = var1[2] / var2[2]\n",
        "\n",
        "#determine whether or not the lines intersect are parallel or neither in some cases\n",
        "if num_1 == num_2:\n",
        "  if num_2 == num_3:\n",
        "    print('These are Overlapping lines and not parallel lines as the lines are not intersecting')\n",
        "  else:\n",
        "    print('These are neither overlapping lines nor intersecting lines but are parallel lines')\n",
        "else:\n",
        "  print('These are neither parallel nor overlapping lines but the lines are intersecting')\n"
      ],
      "execution_count": 20,
      "outputs": [
        {
          "output_type": "stream",
          "text": [
            "Please enter the coeffs for the first equation - a1x + b1y + c1 = 0\n",
            "Coefficent 1 - 2\n",
            "Coefficent 2 - 3\n",
            "Coefficent 3 - 4\n",
            "Please enter the coeffs for the second equation - a1x + b1y + c1 = 0\n",
            "Coefficent 1 - 2\n",
            "Coefficent 2 - 3\n",
            "Coefficent 3 - 4\n",
            "These are Overlapping lines and not parallel lines as the lines are not intersecting\n"
          ],
          "name": "stdout"
        }
      ]
    },
    {
      "cell_type": "markdown",
      "metadata": {
        "id": "i_-LNMo3LkSG"
      },
      "source": [
        "**BONUS**   **[10 pts]** Plot the two lines graphically using the `matplotlib` and `numpy` libraries or any other suitable libraries. "
      ]
    },
    {
      "cell_type": "code",
      "metadata": {
        "id": "8KTeHUMLLkSG",
        "colab": {
          "base_uri": "https://localhost:8080/",
          "height": 794
        },
        "outputId": "ce422625-8b42-47aa-c05e-58622fa4d72e"
      },
      "source": [
        "#INSERT YOUR ANSWER HERE.\n",
        "import matplotlib.pyplot as plt\n",
        "import numpy as np\n",
        "\n",
        "#Call user_input function from previous code\n",
        "var1, var2 = user_input()\n",
        "\n",
        "def plot_line(coeff1, num):\n",
        "  #plot for first line\n",
        "  y1 = coeff1[1]\n",
        "  x1 = coeff1[0]\n",
        "  b1 = coeff1[2]\n",
        "\n",
        "  x = np.linspace(-x1, x1, 100)\n",
        "  y = (-x1*x - b1) / y1\n",
        "  plt.plot(x, y)\n",
        "  plt.xlabel('x')\n",
        "  plt.ylabel('y')\n",
        "  plt.title('Graph of line ' + num)\n",
        "  plt.grid()\n",
        "  plt.show()\n",
        "\n",
        "print('-' * 50)\n",
        "print('Plot number 1')\n",
        "plot_line(var1, str(1))\n",
        "\n",
        "print('-' * 50)\n",
        "print('\\nPlot number 2')\n",
        "plot_line(var2, str(2))"
      ],
      "execution_count": null,
      "outputs": [
        {
          "output_type": "stream",
          "text": [
            "Please enter the coeffs for the first equation - a1x + b1y + c1 = 0\n",
            "Coefficent 1 - 2\n",
            "Coefficent 2 - 3\n",
            "Coefficent 3 - 4\n",
            "Please enter the coeffs for the second equation - a1x + b1y + c1 = 0\n",
            "Coefficent 1 - 2\n",
            "Coefficent 2 - 3\n",
            "Coefficent 3 - 4\n",
            "--------------------------------------------------\n",
            "Plot number 1\n"
          ],
          "name": "stdout"
        },
        {
          "output_type": "display_data",
          "data": {
            "image/png": "[encoded data removed]",
            "text/plain": [
              "<Figure size 432x288 with 1 Axes>"
            ]
          },
          "metadata": {
            "tags": [],
            "needs_background": "light"
          }
        },
        {
          "output_type": "stream",
          "text": [
            "--------------------------------------------------\n",
            "\n",
            "Plot number 2\n"
          ],
          "name": "stdout"
        },
        {
          "output_type": "display_data",
          "data": {
            "image/png": "[encoded data removed]",
            "text/plain": [
              "<Figure size 432x288 with 1 Axes>"
            ]
          },
          "metadata": {
            "tags": [],
            "needs_background": "light"
          }
        }
      ]
    },
    {
      "cell_type": "markdown",
      "metadata": {
        "id": "1pXjKc23jXTj"
      },
      "source": [
        "*****\n",
        "\n"
      ]
    },
    {
      "cell_type": "markdown",
      "metadata": {
        "id": "7vRukEN2JfGX"
      },
      "source": [
        "#### This is the end of assignment 1"
      ]
    }
  ]
}